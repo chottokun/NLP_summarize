{
  "nbformat": 4,
  "nbformat_minor": 0,
  "metadata": {
    "colab": {
      "provenance": [],
      "collapsed_sections": [],
      "authorship_tag": "ABX9TyN7ruJRRvnL4PFooJAIlBvy"
    },
    "kernelspec": {
      "name": "python3",
      "display_name": "Python 3"
    },
    "language_info": {
      "name": "python"
    }
  },
  "cells": [
    {
      "cell_type": "markdown",
      "source": [
        "## Pysummury を試してみる。"
      ],
      "metadata": {
        "id": "mx35keeslnu4"
      }
    },
    {
      "cell_type": "code",
      "execution_count": null,
      "metadata": {
        "id": "baWrPfQKKM4h",
        "colab": {
          "base_uri": "https://localhost:8080/"
        },
        "outputId": "9cccdb23-e60e-44e2-f2c6-e752219bb036"
      },
      "outputs": [
        {
          "output_type": "stream",
          "name": "stdout",
          "text": [
            "Looking in indexes: https://pypi.org/simple, https://us-python.pkg.dev/colab-wheels/public/simple/\n",
            "Requirement already satisfied: pysummarization in /usr/local/lib/python3.7/dist-packages (1.1.9)\n",
            "Requirement already satisfied: numpy in /usr/local/lib/python3.7/dist-packages (from pysummarization) (1.21.6)\n",
            "Requirement already satisfied: nltk in /usr/local/lib/python3.7/dist-packages (from pysummarization) (3.7)\n",
            "Requirement already satisfied: joblib in /usr/local/lib/python3.7/dist-packages (from nltk->pysummarization) (1.1.0)\n",
            "Requirement already satisfied: tqdm in /usr/local/lib/python3.7/dist-packages (from nltk->pysummarization) (4.64.0)\n",
            "Requirement already satisfied: regex>=2021.8.3 in /usr/local/lib/python3.7/dist-packages (from nltk->pysummarization) (2022.6.2)\n",
            "Requirement already satisfied: click in /usr/local/lib/python3.7/dist-packages (from nltk->pysummarization) (7.1.2)\n",
            "Looking in indexes: https://pypi.org/simple, https://us-python.pkg.dev/colab-wheels/public/simple/\n",
            "Requirement already satisfied: mecab-python3 in /usr/local/lib/python3.7/dist-packages (1.0.5)\n",
            "Looking in indexes: https://pypi.org/simple, https://us-python.pkg.dev/colab-wheels/public/simple/\n",
            "Requirement already satisfied: unidic-lite in /usr/local/lib/python3.7/dist-packages (1.0.8)\n",
            "Looking in indexes: https://pypi.org/simple, https://us-python.pkg.dev/colab-wheels/public/simple/\n",
            "Requirement already satisfied: nltk in /usr/local/lib/python3.7/dist-packages (3.7)\n",
            "Requirement already satisfied: joblib in /usr/local/lib/python3.7/dist-packages (from nltk) (1.1.0)\n",
            "Requirement already satisfied: tqdm in /usr/local/lib/python3.7/dist-packages (from nltk) (4.64.0)\n",
            "Requirement already satisfied: click in /usr/local/lib/python3.7/dist-packages (from nltk) (7.1.2)\n",
            "Requirement already satisfied: regex>=2021.8.3 in /usr/local/lib/python3.7/dist-packages (from nltk) (2022.6.2)\n"
          ]
        }
      ],
      "source": [
        "!pip install pysummarization\n",
        "!pip install mecab-python3\n",
        "!pip install unidic-lite\n",
        "!pip install nltk"
      ]
    },
    {
      "cell_type": "markdown",
      "source": [
        "Import"
      ],
      "metadata": {
        "id": "FsRdju4Cl97u"
      }
    },
    {
      "cell_type": "code",
      "source": [
        "from pysummarization.nlpbase.auto_abstractor import AutoAbstractor\n",
        "from pysummarization.tokenizabledoc.mecab_tokenizer import MeCabTokenizer\n",
        "from pysummarization.abstractabledoc.top_n_rank_abstractor import TopNRankAbstractor"
      ],
      "metadata": {
        "id": "SFXJzLdKKfv5"
      },
      "execution_count": null,
      "outputs": []
    },
    {
      "cell_type": "markdown",
      "source": [
        "### MeCab\n",
        "Mecabに大量の文章を読ませると分かち書きができないので、分割するように改変。当該部分だけ弄ろうとしたらなぜかできないので丸々書き換え。（誰か良い方法を教えてください）"
      ],
      "metadata": {
        "id": "Q3NUyJjnmCS3"
      }
    },
    {
      "cell_type": "code",
      "source": [
        "from pysummarization.tokenizable_doc import TokenizableDoc\n",
        "import MeCab\n",
        "\n",
        "class MeCabTokenizer(TokenizableDoc):\n",
        "    '''\n",
        "    Tokenize string.\n",
        "    \n",
        "    Japanese morphological analysis with MeCab.\n",
        "    '''\n",
        "\n",
        "    # Path ot mecab dictionary.\n",
        "    # For instance, \"-d /usr/lib/x86_64-linux-gnu/mecab/dic/mecab-ipadic-neologd\".\n",
        "    # If empty(\"\"), this class will see default settings.\n",
        "    __mecab_system_dic = \"\"\n",
        "\n",
        "    def get_mecab_system_dic(self):\n",
        "        ''' getter '''\n",
        "        return self.__mecab_system_dic\n",
        "    \n",
        "    def set_mecab_system_dic(self, value):\n",
        "        ''' setter '''\n",
        "        self.__mecab_system_dic = value\n",
        "\n",
        "    mecab_system_dic = property(get_mecab_system_dic, set_mecab_system_dic)\n",
        "\n",
        "    __part_of_speech = []\n",
        "\n",
        "    def get_part_of_speech(self):\n",
        "        ''' getter '''\n",
        "        return self.__part_of_speech\n",
        "    \n",
        "    def set_part_of_speech(self, value):\n",
        "        ''' setter '''\n",
        "        self.__part_of_speech = value\n",
        "\n",
        "    part_of_speech = property(get_part_of_speech, set_part_of_speech)\n",
        "\n",
        "    def tokenize(self, sentence_str):\n",
        "        '''\n",
        "        Tokenize str.\n",
        "        \n",
        "        Args:\n",
        "            sentence_str:   tokenized string.\n",
        "        \n",
        "        Returns:\n",
        "            [token, token, token, ...]\n",
        "        '''\n",
        "        if len(self.part_of_speech) == 0:\n",
        "            mt = MeCab.Tagger(self.mecab_system_dic + \" -Owakati\")\n",
        "            token_list = []\n",
        "            chunks = sentence_str.split(\"\\n\")\n",
        "            for p_text in chunks:\n",
        "              wordlist = mt.parse(p_text)\n",
        "              token_list += wordlist.rstrip(\" \\n\").split(\" \")\n",
        "            return token_list\n",
        "        else:\n",
        "            tagger = MeCab.Tagger(self.mecab_system_dic + \" -Ochasen\")\n",
        "            node = tagger.parseToNode(sentence_str)\n",
        "\n",
        "            result_tuple_list = []\n",
        "            token_list = []\n",
        "            while node:\n",
        "                feature_list = node.feature.split(\",\")\n",
        "                if feature_list[0] != \"BOS/EOS\":\n",
        "                    if feature_list[0] in self.part_of_speech:\n",
        "                        token = feature_list[6]\n",
        "                        token_list.append(token)\n",
        "                node = node.next\n",
        "            return token_list"
      ],
      "metadata": {
        "id": "WWGwA28MXLzq"
      },
      "execution_count": null,
      "outputs": []
    },
    {
      "cell_type": "markdown",
      "source": [
        "### 要約のテスト\n",
        "\n",
        "文章は\n",
        "https://ja.wikipedia.org/wiki/%E6%98%A0%E7%94%BB\n",
        "から一部を利用しました。"
      ],
      "metadata": {
        "id": "sWFFXM-JmBFw"
      }
    },
    {
      "cell_type": "code",
      "source": [
        "def get_summary(document):\n",
        "  auto_abstractor = AutoAbstractor()\n",
        "  auto_abstractor.tokenizable_doc = MeCabTokenizer()\n",
        "  auto_abstractor.delimiter_list = [\"。\", \"\\n\"]\n",
        "  abstractable_doc = TopNRankAbstractor()\n",
        "  result_dict = auto_abstractor.summarize(document, abstractable_doc)\n",
        "  return result_dict\n",
        "\n",
        "result_dict = get_summary( \"\"\"\n",
        "19世紀後半に写真技術が発展すると、やがてそれを利用して動く写真の開発が始まり、1893年にトーマス・エジソンが1人でのぞき込んで楽しむキネトスコープを発明するなど、1890年代にはいくつかの映画の原型が考案されていた[5]。そうした中、1895年にフランスのリュミエール兄弟がスクリーンに動く写真を投影して公開した。これが現代にまでつながる映画の起源とされている[6]。\n",
        "スクリーンに上映する映画は登場と同時に世界中で反響を呼び、開発の翌年には各国で上映されるようになった[5]。草創期の映画は単に事実を記録した映像に過ぎなかったが、それでも新奇さから各地の見世物で大当たりを取り、映画館が相次いで各地に設立された[7]。20世紀に入るとストーリーを持つ映画の制作が始まり、盛んに映画作品が作られるようになった[8]。\n",
        "映画表現において大きな画期となったのは、1920年代の「トーキー」の登場、それに続いて行われたいわゆる「総天然色」映画の登場が数えられよう。これらはそれぞれ、それまでの映画の形式を最終的には駆逐するにいたった。例えば、今では「トーキー」以前の形式である「サイレント」が新たに発表されることはほぼない。また、今「モノクローム」で撮影された映画が発表されることは極めてまれである。\n",
        "20世紀前半に行われたこれらの映画技術の進展とは異なり、20世紀後半の映画技術の発展は映画表現の多様性を増す方向に作用した。\n",
        "戦後、普及した映画の撮影技法には、例えば「特殊撮影」「アニメーション」「コンピュータ・グラフィクス」が挙げられる。これらの新たな撮影技法は、それ以前の方法を駆逐することによって普及したのではなく、それが登場する以前の撮影技法と共存しつつ独自の分野を成す形でそれぞれの発展を遂げている。\n",
        "1970年代からはVTRが普及したが、フィルムとビデオとの基本的な表示方式の違いから映画は35mmフィルムによる撮影が一般的であった。21世紀に入った頃から商業作品もデジタルビデオカメラで撮影され、フィルムを使わずコンピュータ上で編集される例が増加している。詳しくはデジタルシネマを参照。\n",
        "1990年代以降はコンピューターを使って画像を生成したコンピューターグラフィックス通称CGが大々的に使われるようになる。\"\"\")\n",
        "result_dict"
      ],
      "metadata": {
        "id": "TEyuuwo5MHBW",
        "colab": {
          "base_uri": "https://localhost:8080/"
        },
        "outputId": "b4771b29-6c07-429a-cd05-69f7affcb0eb"
      },
      "execution_count": null,
      "outputs": [
        {
          "output_type": "execute_result",
          "data": {
            "text/plain": [
              "{'summarize_result': ['19世紀後半に写真技術が発展すると、やがてそれを利用して動く写真の開発が始まり、1893年にトーマス・エジソンが1人でのぞき込んで楽しむキネトスコープを発明するなど、1890年代にはいくつかの映画の原型が考案されていた[5]。\\n',\n",
              "  'そうした中、1895年にフランスのリュミエール兄弟がスクリーンに動く写真を投影して公開した。\\n',\n",
              "  'これが現代にまでつながる映画の起源とされている[6]。\\n',\n",
              "  'スクリーンに上映する映画は登場と同時に世界中で反響を呼び、開発の翌年には各国で上映されるようになった[5]。\\n',\n",
              "  '草創期の映画は単に事実を記録した映像に過ぎなかったが、それでも新奇さから各地の見世物で大当たりを取り、映画館が相次いで各地に設立された[7]。\\n',\n",
              "  '20世紀に入るとストーリーを持つ映画の制作が始まり、盛んに映画作品が作られるようになった[8]。\\n',\n",
              "  '映画表現において大きな画期となったのは、1920年代の「トーキー」の登場、それに続いて行われたいわゆる「総天然色」映画の登場が数えられよう。\\n',\n",
              "  'これらはそれぞれ、それまでの映画の形式を最終的には駆逐するにいたった。\\n',\n",
              "  '20世紀前半に行われたこれらの映画技術の進展とは異なり、20世紀後半の映画技術の発展は映画表現の多様性を増す方向に作用した。\\n',\n",
              "  '1970年代からはVTRが普及したが、フィルムとビデオとの基本的な表示方式の違いから映画は35mmフィルムによる撮影が一般的であった。\\n'],\n",
              " 'scoring_data': [(0, 39.40909090909091),\n",
              "  (1, 18.615384615384617),\n",
              "  (2, 18.0),\n",
              "  (3, 24.02857142857143),\n",
              "  (4, 27.0),\n",
              "  (5, 7.142857142857143),\n",
              "  (6, 6.230769230769231),\n",
              "  (7, 7.3478260869565215),\n",
              "  (10, 8.047619047619047),\n",
              "  (13, 6.25)]}"
            ]
          },
          "metadata": {},
          "execution_count": 184
        }
      ]
    },
    {
      "cell_type": "code",
      "source": [
        "result_dict[\"summarize_result\"]"
      ],
      "metadata": {
        "colab": {
          "base_uri": "https://localhost:8080/"
        },
        "id": "u9Q9e2t8lX4V",
        "outputId": "05a018d4-09a0-4d94-8a5c-600cd5477347"
      },
      "execution_count": null,
      "outputs": [
        {
          "output_type": "execute_result",
          "data": {
            "text/plain": [
              "['19世紀後半に写真技術が発展すると、やがてそれを利用して動く写真の開発が始まり、1893年にトーマス・エジソンが1人でのぞき込んで楽しむキネトスコープを発明するなど、1890年代にはいくつかの映画の原型が考案されていた[5]。\\n',\n",
              " 'そうした中、1895年にフランスのリュミエール兄弟がスクリーンに動く写真を投影して公開した。\\n',\n",
              " 'これが現代にまでつながる映画の起源とされている[6]。\\n',\n",
              " 'スクリーンに上映する映画は登場と同時に世界中で反響を呼び、開発の翌年には各国で上映されるようになった[5]。\\n',\n",
              " '草創期の映画は単に事実を記録した映像に過ぎなかったが、それでも新奇さから各地の見世物で大当たりを取り、映画館が相次いで各地に設立された[7]。\\n',\n",
              " '20世紀に入るとストーリーを持つ映画の制作が始まり、盛んに映画作品が作られるようになった[8]。\\n',\n",
              " '映画表現において大きな画期となったのは、1920年代の「トーキー」の登場、それに続いて行われたいわゆる「総天然色」映画の登場が数えられよう。\\n',\n",
              " 'これらはそれぞれ、それまでの映画の形式を最終的には駆逐するにいたった。\\n',\n",
              " '20世紀前半に行われたこれらの映画技術の進展とは異なり、20世紀後半の映画技術の発展は映画表現の多様性を増す方向に作用した。\\n',\n",
              " '1970年代からはVTRが普及したが、フィルムとビデオとの基本的な表示方式の違いから映画は35mmフィルムによる撮影が一般的であった。\\n']"
            ]
          },
          "metadata": {},
          "execution_count": 191
        }
      ]
    },
    {
      "cell_type": "code",
      "source": [
        "result_dict[\"summarize_result\"][0:5]"
      ],
      "metadata": {
        "colab": {
          "base_uri": "https://localhost:8080/"
        },
        "id": "gUFAY4LDkjcN",
        "outputId": "82c6235d-4709-4c35-e7b9-88f6b9275345"
      },
      "execution_count": null,
      "outputs": [
        {
          "output_type": "execute_result",
          "data": {
            "text/plain": [
              "['19世紀後半に写真技術が発展すると、やがてそれを利用して動く写真の開発が始まり、1893年にトーマス・エジソンが1人でのぞき込んで楽しむキネトスコープを発明するなど、1890年代にはいくつかの映画の原型が考案されていた[5]。\\n',\n",
              " 'そうした中、1895年にフランスのリュミエール兄弟がスクリーンに動く写真を投影して公開した。\\n',\n",
              " 'これが現代にまでつながる映画の起源とされている[6]。\\n',\n",
              " 'スクリーンに上映する映画は登場と同時に世界中で反響を呼び、開発の翌年には各国で上映されるようになった[5]。\\n',\n",
              " '草創期の映画は単に事実を記録した映像に過ぎなかったが、それでも新奇さから各地の見世物で大当たりを取り、映画館が相次いで各地に設立された[7]。\\n']"
            ]
          },
          "metadata": {},
          "execution_count": 192
        }
      ]
    },
    {
      "cell_type": "markdown",
      "source": [
        "### 大量のテキストで実験\n",
        "むちゃを承知で、三国志の全テキストを投入。"
      ],
      "metadata": {
        "id": "BLBU5jvtmwQK"
      }
    },
    {
      "cell_type": "code",
      "source": [
        "txt_path = '/content/train.txt'\n",
        "\n",
        "with open(txt_path, mode='r', encoding='UTF-8') as f:\n",
        "  document = f.read()\n",
        "\n",
        "print(type(document))"
      ],
      "metadata": {
        "colab": {
          "base_uri": "https://localhost:8080/"
        },
        "id": "BGFR4lOhNpBJ",
        "outputId": "db80ea12-f3a7-479e-a8f7-08a7e46be4de"
      },
      "execution_count": null,
      "outputs": [
        {
          "output_type": "stream",
          "name": "stdout",
          "text": [
            "<class 'str'>\n"
          ]
        }
      ]
    },
    {
      "cell_type": "code",
      "source": [
        "result_dict = get_summary(document)\n",
        "result_dict"
      ],
      "metadata": {
        "colab": {
          "base_uri": "https://localhost:8080/"
        },
        "id": "mxByX67IMtx-",
        "outputId": "12eea6d6-7731-458d-d43f-1a4414c0da21"
      },
      "execution_count": null,
      "outputs": [
        {
          "output_type": "execute_result",
          "data": {
            "text/plain": [
              "{'summarize_result': ['今から約千七百八十年ほど前のことである。\\n',\n",
              "  '腰に、一剣を佩いているほか、身なりはいたって見すぼらしいが、眉は秀で、唇は紅く、とりわけ聡明そうな眸や、豊かな頬をしていて、つねにどこかに微笑をふくみ、総じて賤しげな容子がなかった。\\n',\n",
              "  '草むらの中に、ぽつねんと坐って、膝をかかえこんでいた。\\n',\n",
              "  'そしてそこは、黄河の畔の黄土層の低い断り岸であった。\\n',\n",
              "  'あなたが佩いている剣は誰にもらったのか」\\n',\n",
              "  '猟師にしては、どこか骨柄の秀でたところが見えたからである。\\n',\n",
              "  '予期していたことではあるが、そう聞くと、みな愕然とした色を顔にたたえた。\\n',\n",
              "  'だが、誰あって、進んで彼の首に剣を加えようとする者はなかった。\\n',\n",
              "  'すると一河の水に、頑丈な木橋が架かっていた。\\n',\n",
              "  'むしろ幕下の大将がかくまで旺盛な戦意を抱いていることは彼としてよろこばしいほどであったから、\\n'],\n",
              " 'scoring_data': [(2, 14.0),\n",
              "  (4, 28.491525423728813),\n",
              "  (6, 15.058823529411764),\n",
              "  (10, 14.222222222222221),\n",
              "  (431, 11.076923076923077),\n",
              "  (17003, 11.842105263157896),\n",
              "  (20719, 11.076923076923077),\n",
              "  (24398, 11.130434782608695),\n",
              "  (30478, 10.5625),\n",
              "  (40684, 10.24)]}"
            ]
          },
          "metadata": {},
          "execution_count": 195
        }
      ]
    },
    {
      "cell_type": "code",
      "source": [
        "result_dict[\"summarize_result\"]"
      ],
      "metadata": {
        "colab": {
          "base_uri": "https://localhost:8080/"
        },
        "id": "TxljmeLtwm3V",
        "outputId": "75898127-b9a5-49a4-f2ce-b9eee5e37760"
      },
      "execution_count": null,
      "outputs": [
        {
          "output_type": "execute_result",
          "data": {
            "text/plain": [
              "['今から約千七百八十年ほど前のことである。\\n',\n",
              " '腰に、一剣を佩いているほか、身なりはいたって見すぼらしいが、眉は秀で、唇は紅く、とりわけ聡明そうな眸や、豊かな頬をしていて、つねにどこかに微笑をふくみ、総じて賤しげな容子がなかった。\\n',\n",
              " '草むらの中に、ぽつねんと坐って、膝をかかえこんでいた。\\n',\n",
              " 'そしてそこは、黄河の畔の黄土層の低い断り岸であった。\\n',\n",
              " 'あなたが佩いている剣は誰にもらったのか」\\n',\n",
              " '猟師にしては、どこか骨柄の秀でたところが見えたからである。\\n',\n",
              " '予期していたことではあるが、そう聞くと、みな愕然とした色を顔にたたえた。\\n',\n",
              " 'だが、誰あって、進んで彼の首に剣を加えようとする者はなかった。\\n',\n",
              " 'すると一河の水に、頑丈な木橋が架かっていた。\\n',\n",
              " 'むしろ幕下の大将がかくまで旺盛な戦意を抱いていることは彼としてよろこばしいほどであったから、\\n']"
            ]
          },
          "metadata": {},
          "execution_count": 196
        }
      ]
    },
    {
      "cell_type": "markdown",
      "source": [
        "### Similarity Filter\n"
      ],
      "metadata": {
        "id": "vGURdLDzc2Zu"
      }
    },
    {
      "cell_type": "code",
      "source": [
        "from pysummarization.nlp_base import NlpBase\n",
        "from pysummarization.similarityfilter.tfidf_cosine import TfIdfCosine\n",
        "\n",
        "def get_summary_2(document) -> dict:\n",
        "  similarity_limit = 0.05\n",
        "  nlp_base = NlpBase()\n",
        "  nlp_base.tokenizable_doc = MeCabTokenizer()\n",
        "  similarity_filter = TfIdfCosine()\n",
        "  similarity_filter.nlp_base = nlp_base\n",
        "  similarity_filter.similarity_limit = similarity_limit\n",
        "  auto_abstractor = AutoAbstractor()\n",
        "  auto_abstractor.tokenizable_doc = MeCabTokenizer()\n",
        "  auto_abstractor.delimiter_list = [\"。\", \"\\n\"]\n",
        "  abstractable_doc = TopNRankAbstractor()\n",
        "  result_dict2 = auto_abstractor.summarize(document, abstractable_doc, similarity_filter)\n",
        "  return result_dict2\n"
      ],
      "metadata": {
        "id": "O1RrrVi-7dqp"
      },
      "execution_count": null,
      "outputs": []
    },
    {
      "cell_type": "code",
      "source": [
        "result_dict2 = get_summary_2(document)"
      ],
      "metadata": {
        "colab": {
          "base_uri": "https://localhost:8080/"
        },
        "id": "yvmoE97nnoFF",
        "outputId": "9fd8201a-fe31-47d3-dd19-3702432947ae"
      },
      "execution_count": null,
      "outputs": [
        {
          "output_type": "stream",
          "name": "stderr",
          "text": [
            "/usr/local/lib/python3.7/dist-packages/pysummarization/similarityfilter/tfidf_cosine.py:46: RuntimeWarning: invalid value encountered in double_scalars\n",
            "  result = dot_prod / (norm_x * norm_y)\n"
          ]
        }
      ]
    },
    {
      "cell_type": "code",
      "source": [
        "# 出力\n",
        "result_dict2[\"summarize_result\"]"
      ],
      "metadata": {
        "colab": {
          "base_uri": "https://localhost:8080/"
        },
        "id": "JTsrgSRd8sYw",
        "outputId": "cbe58f77-571c-46d4-f351-d6606d47d541"
      },
      "execution_count": null,
      "outputs": [
        {
          "output_type": "execute_result",
          "data": {
            "text/plain": [
              "['黄巾賊\\n', '今から約千七百八十年ほど前のことである。\\n', '独り強くそう思う。\\n', 'ただ追い詰め追い詰め討ちくずせ」\\n']"
            ]
          },
          "metadata": {},
          "execution_count": 205
        }
      ]
    },
    {
      "cell_type": "markdown",
      "source": [
        "## 参考\n",
        "\n",
        "公式\n",
        "- https://code.accel-brain.com/Automatic-Summarization/\n",
        "\n",
        "解説\n",
        "- https://kiyosucyberclub.web.fc2.com/DeZero_NLP/DeZero_VC05-13D.html\n",
        "- https://resanaplaza.com/2022/05/19/%E3%80%90%E5%AE%9F%E8%B7%B5%E3%80%91python%EF%BC%8Bpysummarization%E3%81%A7%E6%96%87%E6%9B%B8%E8%A6%81%E7%B4%84%EF%BC%88%E3%83%86%E3%82%AD%E3%82%B9%E3%83%88%E3%83%9E%E3%82%A4%E3%83%8B%E3%83%B3/\n",
        "- https://book.st-hakky.com/docs/text-summary-library-pysummarization\n"
      ],
      "metadata": {
        "id": "hVP6tctr-mji"
      }
    }
  ]
}